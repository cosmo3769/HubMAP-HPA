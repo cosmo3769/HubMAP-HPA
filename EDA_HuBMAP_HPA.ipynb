{
  "nbformat": 4,
  "nbformat_minor": 0,
  "metadata": {
    "colab": {
      "name": "EDA_HuBMAP-HPA.ipynb",
      "provenance": [],
      "authorship_tag": "ABX9TyPf03kDYX4Aor6roEB+yhOw",
      "include_colab_link": true
    },
    "kernelspec": {
      "name": "python3",
      "display_name": "Python 3"
    },
    "language_info": {
      "name": "python"
    }
  },
  "cells": [
    {
      "cell_type": "markdown",
      "metadata": {
        "id": "view-in-github",
        "colab_type": "text"
      },
      "source": [
        "<a href=\"https://colab.research.google.com/github/cosmo3769/HubMAP-HPA/blob/eda/EDA_HuBMAP_HPA.ipynb\" target=\"_parent\"><img src=\"https://colab.research.google.com/assets/colab-badge.svg\" alt=\"Open In Colab\"/></a>"
      ]
    },
    {
      "cell_type": "markdown",
      "source": [
        "## Setting up kaggle service to fetch the dataset\n",
        "\n",
        "Go to your kaggle account. Generate an API token. The file named \"kaggle.json\" will be downloaded to your local system. Upload the file **kaggle.json** in the colab so to use the kaggle service in colab.  "
      ],
      "metadata": {
        "id": "64bJ32RC6sdU"
      }
    },
    {
      "cell_type": "code",
      "execution_count": null,
      "metadata": {
        "id": "3F85qWLr6cBe"
      },
      "outputs": [],
      "source": [
        "# Install the kaggle library.\n",
        "\n",
        "%%capture\n",
        "! pip install kaggle"
      ]
    },
    {
      "cell_type": "code",
      "source": [
        "! mkdir ~/.kaggle"
      ],
      "metadata": {
        "id": "1v46IRwN6yOY"
      },
      "execution_count": null,
      "outputs": []
    },
    {
      "cell_type": "code",
      "source": [
        "! cp kaggle.json ~/.kaggle/"
      ],
      "metadata": {
        "id": "dMlFoS4j60lw"
      },
      "execution_count": null,
      "outputs": []
    },
    {
      "cell_type": "code",
      "source": [
        "! chmod 600 ~/.kaggle/kaggle.json"
      ],
      "metadata": {
        "id": "1aP5Wvh563Gb"
      },
      "execution_count": null,
      "outputs": []
    },
    {
      "cell_type": "markdown",
      "source": [
        "## Dataset\n"
      ],
      "metadata": {
        "id": "XXf4_XP367rf"
      }
    },
    {
      "cell_type": "code",
      "source": [
        "! kaggle competitions download -c hubmap-organ-segmentation"
      ],
      "metadata": {
        "id": "Q1T9iamo68S7"
      },
      "execution_count": null,
      "outputs": []
    },
    {
      "cell_type": "code",
      "source": [
        "%%capture\n",
        "! unzip hubmap-organ-segmentation.zip"
      ],
      "metadata": {
        "id": "Aaymx1Ao7ExJ"
      },
      "execution_count": null,
      "outputs": []
    }
  ]
}