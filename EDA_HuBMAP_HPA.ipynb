{
  "nbformat": 4,
  "nbformat_minor": 0,
  "metadata": {
    "colab": {
      "name": "EDA_HuBMAP-HPA.ipynb",
      "provenance": [],
      "authorship_tag": "ABX9TyMgr+mY4PGRTCLLyUbKldqw",
      "include_colab_link": true
    },
    "kernelspec": {
      "name": "python3",
      "display_name": "Python 3"
    },
    "language_info": {
      "name": "python"
    }
  },
  "cells": [
    {
      "cell_type": "markdown",
      "metadata": {
        "id": "view-in-github",
        "colab_type": "text"
      },
      "source": [
        "<a href=\"https://colab.research.google.com/github/cosmo3769/HubMAP-HPA/blob/eda/EDA_HuBMAP_HPA.ipynb\" target=\"_parent\"><img src=\"https://colab.research.google.com/assets/colab-badge.svg\" alt=\"Open In Colab\"/></a>"
      ]
    },
    {
      "cell_type": "markdown",
      "source": [
        "# Requirements"
      ],
      "metadata": {
        "id": "E0fA20-ZC05n"
      }
    },
    {
      "cell_type": "code",
      "source": [
        "import pandas as pd\n",
        "import matplotlib\n",
        "import matplotlib.pyplot as plt"
      ],
      "metadata": {
        "id": "nM249TgZC0TA"
      },
      "execution_count": 1,
      "outputs": []
    },
    {
      "cell_type": "markdown",
      "source": [
        "# Setting up kaggle service to fetch the dataset\n",
        "\n",
        "Go to your kaggle account. Generate an API token. The file named \"kaggle.json\" will be downloaded to your local system. Upload the file **kaggle.json** in the colab so to use the kaggle service in colab.  "
      ],
      "metadata": {
        "id": "64bJ32RC6sdU"
      }
    },
    {
      "cell_type": "code",
      "source": [
        "# Install the kaggle library.\n",
        "\n",
        "%%capture\n",
        "! pip install kaggle"
      ],
      "metadata": {
        "id": "mQ6OKyJmDGZi"
      },
      "execution_count": 2,
      "outputs": []
    },
    {
      "cell_type": "code",
      "source": [
        "! mkdir ~/.kaggle"
      ],
      "metadata": {
        "id": "1v46IRwN6yOY"
      },
      "execution_count": 3,
      "outputs": []
    },
    {
      "cell_type": "code",
      "source": [
        "! cp kaggle.json ~/.kaggle/"
      ],
      "metadata": {
        "id": "dMlFoS4j60lw"
      },
      "execution_count": 4,
      "outputs": []
    },
    {
      "cell_type": "code",
      "source": [
        "! chmod 600 ~/.kaggle/kaggle.json"
      ],
      "metadata": {
        "id": "1aP5Wvh563Gb"
      },
      "execution_count": 5,
      "outputs": []
    },
    {
      "cell_type": "code",
      "source": [
        "! kaggle competitions download -c hubmap-organ-segmentation"
      ],
      "metadata": {
        "colab": {
          "base_uri": "https://localhost:8080/"
        },
        "id": "Q1T9iamo68S7",
        "outputId": "96e793ed-978d-4ad6-c75a-0c3e1b626288"
      },
      "execution_count": 6,
      "outputs": [
        {
          "output_type": "stream",
          "name": "stdout",
          "text": [
            "Downloading hubmap-organ-segmentation.zip to /content\n",
            "100% 5.76G/5.78G [00:36<00:00, 194MB/s]\n",
            "100% 5.78G/5.78G [00:36<00:00, 170MB/s]\n"
          ]
        }
      ]
    },
    {
      "cell_type": "code",
      "source": [
        "%%capture\n",
        "! unzip hubmap-organ-segmentation.zip"
      ],
      "metadata": {
        "id": "Aaymx1Ao7ExJ"
      },
      "execution_count": 7,
      "outputs": []
    },
    {
      "cell_type": "markdown",
      "source": [
        "# Dataset Exploration\n"
      ],
      "metadata": {
        "id": "XXf4_XP367rf"
      }
    },
    {
      "cell_type": "code",
      "source": [
        "train_df = pd.read_csv(\"/content/train.csv\")\n",
        "train_df"
      ],
      "metadata": {
        "colab": {
          "base_uri": "https://localhost:8080/",
          "height": 424
        },
        "id": "Df6XQMFNBVxL",
        "outputId": "56dbbdcf-f15d-4587-8368-77b48aa2934f"
      },
      "execution_count": 8,
      "outputs": [
        {
          "output_type": "execute_result",
          "data": {
            "text/plain": [
              "        id           organ data_source  img_height  img_width  pixel_size  \\\n",
              "0    10044        prostate         HPA        3000       3000         0.4   \n",
              "1    10274        prostate         HPA        3000       3000         0.4   \n",
              "2    10392          spleen         HPA        3000       3000         0.4   \n",
              "3    10488            lung         HPA        3000       3000         0.4   \n",
              "4    10610          spleen         HPA        3000       3000         0.4   \n",
              "..     ...             ...         ...         ...        ...         ...   \n",
              "346   9517          kidney         HPA        3000       3000         0.4   \n",
              "347   9769          kidney         HPA        3070       3070         0.4   \n",
              "348   9777  largeintestine         HPA        3000       3000         0.4   \n",
              "349   9791          kidney         HPA        3000       3000         0.4   \n",
              "350   9904  largeintestine         HPA        3000       3000         0.4   \n",
              "\n",
              "     tissue_thickness                                                rle  \\\n",
              "0                   4  1459676 77 1462675 82 1465674 87 1468673 92 14...   \n",
              "1                   4  715707 2 718705 8 721703 11 724701 18 727692 3...   \n",
              "2                   4  1228631 20 1231629 24 1234624 40 1237623 47 12...   \n",
              "3                   4  3446519 15 3449517 17 3452514 20 3455510 24 34...   \n",
              "4                   4  478925 68 481909 87 484893 105 487863 154 4908...   \n",
              "..                ...                                                ...   \n",
              "346                 4  1611763 11 1614753 29 1617750 35 1620746 43 16...   \n",
              "347                 4  4030400 28 4033466 34 4036526 48 4039594 54 40...   \n",
              "348                 4  538473 13 541468 22 544463 30 547461 35 550459...   \n",
              "349                 4  334733 33 337729 43 340729 43 343725 51 346723...   \n",
              "350                 4  1009165 7 1012149 28 1015140 38 1018127 51 102...   \n",
              "\n",
              "      age     sex  \n",
              "0    37.0    Male  \n",
              "1    76.0    Male  \n",
              "2    82.0    Male  \n",
              "3    78.0    Male  \n",
              "4    21.0  Female  \n",
              "..    ...     ...  \n",
              "346  61.0    Male  \n",
              "347  28.0    Male  \n",
              "348  84.0    Male  \n",
              "349  28.0    Male  \n",
              "350  84.0    Male  \n",
              "\n",
              "[351 rows x 10 columns]"
            ],
            "text/html": [
              "\n",
              "  <div id=\"df-5b236617-b676-459f-9ec7-43a480bcd5f0\">\n",
              "    <div class=\"colab-df-container\">\n",
              "      <div>\n",
              "<style scoped>\n",
              "    .dataframe tbody tr th:only-of-type {\n",
              "        vertical-align: middle;\n",
              "    }\n",
              "\n",
              "    .dataframe tbody tr th {\n",
              "        vertical-align: top;\n",
              "    }\n",
              "\n",
              "    .dataframe thead th {\n",
              "        text-align: right;\n",
              "    }\n",
              "</style>\n",
              "<table border=\"1\" class=\"dataframe\">\n",
              "  <thead>\n",
              "    <tr style=\"text-align: right;\">\n",
              "      <th></th>\n",
              "      <th>id</th>\n",
              "      <th>organ</th>\n",
              "      <th>data_source</th>\n",
              "      <th>img_height</th>\n",
              "      <th>img_width</th>\n",
              "      <th>pixel_size</th>\n",
              "      <th>tissue_thickness</th>\n",
              "      <th>rle</th>\n",
              "      <th>age</th>\n",
              "      <th>sex</th>\n",
              "    </tr>\n",
              "  </thead>\n",
              "  <tbody>\n",
              "    <tr>\n",
              "      <th>0</th>\n",
              "      <td>10044</td>\n",
              "      <td>prostate</td>\n",
              "      <td>HPA</td>\n",
              "      <td>3000</td>\n",
              "      <td>3000</td>\n",
              "      <td>0.4</td>\n",
              "      <td>4</td>\n",
              "      <td>1459676 77 1462675 82 1465674 87 1468673 92 14...</td>\n",
              "      <td>37.0</td>\n",
              "      <td>Male</td>\n",
              "    </tr>\n",
              "    <tr>\n",
              "      <th>1</th>\n",
              "      <td>10274</td>\n",
              "      <td>prostate</td>\n",
              "      <td>HPA</td>\n",
              "      <td>3000</td>\n",
              "      <td>3000</td>\n",
              "      <td>0.4</td>\n",
              "      <td>4</td>\n",
              "      <td>715707 2 718705 8 721703 11 724701 18 727692 3...</td>\n",
              "      <td>76.0</td>\n",
              "      <td>Male</td>\n",
              "    </tr>\n",
              "    <tr>\n",
              "      <th>2</th>\n",
              "      <td>10392</td>\n",
              "      <td>spleen</td>\n",
              "      <td>HPA</td>\n",
              "      <td>3000</td>\n",
              "      <td>3000</td>\n",
              "      <td>0.4</td>\n",
              "      <td>4</td>\n",
              "      <td>1228631 20 1231629 24 1234624 40 1237623 47 12...</td>\n",
              "      <td>82.0</td>\n",
              "      <td>Male</td>\n",
              "    </tr>\n",
              "    <tr>\n",
              "      <th>3</th>\n",
              "      <td>10488</td>\n",
              "      <td>lung</td>\n",
              "      <td>HPA</td>\n",
              "      <td>3000</td>\n",
              "      <td>3000</td>\n",
              "      <td>0.4</td>\n",
              "      <td>4</td>\n",
              "      <td>3446519 15 3449517 17 3452514 20 3455510 24 34...</td>\n",
              "      <td>78.0</td>\n",
              "      <td>Male</td>\n",
              "    </tr>\n",
              "    <tr>\n",
              "      <th>4</th>\n",
              "      <td>10610</td>\n",
              "      <td>spleen</td>\n",
              "      <td>HPA</td>\n",
              "      <td>3000</td>\n",
              "      <td>3000</td>\n",
              "      <td>0.4</td>\n",
              "      <td>4</td>\n",
              "      <td>478925 68 481909 87 484893 105 487863 154 4908...</td>\n",
              "      <td>21.0</td>\n",
              "      <td>Female</td>\n",
              "    </tr>\n",
              "    <tr>\n",
              "      <th>...</th>\n",
              "      <td>...</td>\n",
              "      <td>...</td>\n",
              "      <td>...</td>\n",
              "      <td>...</td>\n",
              "      <td>...</td>\n",
              "      <td>...</td>\n",
              "      <td>...</td>\n",
              "      <td>...</td>\n",
              "      <td>...</td>\n",
              "      <td>...</td>\n",
              "    </tr>\n",
              "    <tr>\n",
              "      <th>346</th>\n",
              "      <td>9517</td>\n",
              "      <td>kidney</td>\n",
              "      <td>HPA</td>\n",
              "      <td>3000</td>\n",
              "      <td>3000</td>\n",
              "      <td>0.4</td>\n",
              "      <td>4</td>\n",
              "      <td>1611763 11 1614753 29 1617750 35 1620746 43 16...</td>\n",
              "      <td>61.0</td>\n",
              "      <td>Male</td>\n",
              "    </tr>\n",
              "    <tr>\n",
              "      <th>347</th>\n",
              "      <td>9769</td>\n",
              "      <td>kidney</td>\n",
              "      <td>HPA</td>\n",
              "      <td>3070</td>\n",
              "      <td>3070</td>\n",
              "      <td>0.4</td>\n",
              "      <td>4</td>\n",
              "      <td>4030400 28 4033466 34 4036526 48 4039594 54 40...</td>\n",
              "      <td>28.0</td>\n",
              "      <td>Male</td>\n",
              "    </tr>\n",
              "    <tr>\n",
              "      <th>348</th>\n",
              "      <td>9777</td>\n",
              "      <td>largeintestine</td>\n",
              "      <td>HPA</td>\n",
              "      <td>3000</td>\n",
              "      <td>3000</td>\n",
              "      <td>0.4</td>\n",
              "      <td>4</td>\n",
              "      <td>538473 13 541468 22 544463 30 547461 35 550459...</td>\n",
              "      <td>84.0</td>\n",
              "      <td>Male</td>\n",
              "    </tr>\n",
              "    <tr>\n",
              "      <th>349</th>\n",
              "      <td>9791</td>\n",
              "      <td>kidney</td>\n",
              "      <td>HPA</td>\n",
              "      <td>3000</td>\n",
              "      <td>3000</td>\n",
              "      <td>0.4</td>\n",
              "      <td>4</td>\n",
              "      <td>334733 33 337729 43 340729 43 343725 51 346723...</td>\n",
              "      <td>28.0</td>\n",
              "      <td>Male</td>\n",
              "    </tr>\n",
              "    <tr>\n",
              "      <th>350</th>\n",
              "      <td>9904</td>\n",
              "      <td>largeintestine</td>\n",
              "      <td>HPA</td>\n",
              "      <td>3000</td>\n",
              "      <td>3000</td>\n",
              "      <td>0.4</td>\n",
              "      <td>4</td>\n",
              "      <td>1009165 7 1012149 28 1015140 38 1018127 51 102...</td>\n",
              "      <td>84.0</td>\n",
              "      <td>Male</td>\n",
              "    </tr>\n",
              "  </tbody>\n",
              "</table>\n",
              "<p>351 rows × 10 columns</p>\n",
              "</div>\n",
              "      <button class=\"colab-df-convert\" onclick=\"convertToInteractive('df-5b236617-b676-459f-9ec7-43a480bcd5f0')\"\n",
              "              title=\"Convert this dataframe to an interactive table.\"\n",
              "              style=\"display:none;\">\n",
              "        \n",
              "  <svg xmlns=\"http://www.w3.org/2000/svg\" height=\"24px\"viewBox=\"0 0 24 24\"\n",
              "       width=\"24px\">\n",
              "    <path d=\"M0 0h24v24H0V0z\" fill=\"none\"/>\n",
              "    <path d=\"M18.56 5.44l.94 2.06.94-2.06 2.06-.94-2.06-.94-.94-2.06-.94 2.06-2.06.94zm-11 1L8.5 8.5l.94-2.06 2.06-.94-2.06-.94L8.5 2.5l-.94 2.06-2.06.94zm10 10l.94 2.06.94-2.06 2.06-.94-2.06-.94-.94-2.06-.94 2.06-2.06.94z\"/><path d=\"M17.41 7.96l-1.37-1.37c-.4-.4-.92-.59-1.43-.59-.52 0-1.04.2-1.43.59L10.3 9.45l-7.72 7.72c-.78.78-.78 2.05 0 2.83L4 21.41c.39.39.9.59 1.41.59.51 0 1.02-.2 1.41-.59l7.78-7.78 2.81-2.81c.8-.78.8-2.07 0-2.86zM5.41 20L4 18.59l7.72-7.72 1.47 1.35L5.41 20z\"/>\n",
              "  </svg>\n",
              "      </button>\n",
              "      \n",
              "  <style>\n",
              "    .colab-df-container {\n",
              "      display:flex;\n",
              "      flex-wrap:wrap;\n",
              "      gap: 12px;\n",
              "    }\n",
              "\n",
              "    .colab-df-convert {\n",
              "      background-color: #E8F0FE;\n",
              "      border: none;\n",
              "      border-radius: 50%;\n",
              "      cursor: pointer;\n",
              "      display: none;\n",
              "      fill: #1967D2;\n",
              "      height: 32px;\n",
              "      padding: 0 0 0 0;\n",
              "      width: 32px;\n",
              "    }\n",
              "\n",
              "    .colab-df-convert:hover {\n",
              "      background-color: #E2EBFA;\n",
              "      box-shadow: 0px 1px 2px rgba(60, 64, 67, 0.3), 0px 1px 3px 1px rgba(60, 64, 67, 0.15);\n",
              "      fill: #174EA6;\n",
              "    }\n",
              "\n",
              "    [theme=dark] .colab-df-convert {\n",
              "      background-color: #3B4455;\n",
              "      fill: #D2E3FC;\n",
              "    }\n",
              "\n",
              "    [theme=dark] .colab-df-convert:hover {\n",
              "      background-color: #434B5C;\n",
              "      box-shadow: 0px 1px 3px 1px rgba(0, 0, 0, 0.15);\n",
              "      filter: drop-shadow(0px 1px 2px rgba(0, 0, 0, 0.3));\n",
              "      fill: #FFFFFF;\n",
              "    }\n",
              "  </style>\n",
              "\n",
              "      <script>\n",
              "        const buttonEl =\n",
              "          document.querySelector('#df-5b236617-b676-459f-9ec7-43a480bcd5f0 button.colab-df-convert');\n",
              "        buttonEl.style.display =\n",
              "          google.colab.kernel.accessAllowed ? 'block' : 'none';\n",
              "\n",
              "        async function convertToInteractive(key) {\n",
              "          const element = document.querySelector('#df-5b236617-b676-459f-9ec7-43a480bcd5f0');\n",
              "          const dataTable =\n",
              "            await google.colab.kernel.invokeFunction('convertToInteractive',\n",
              "                                                     [key], {});\n",
              "          if (!dataTable) return;\n",
              "\n",
              "          const docLinkHtml = 'Like what you see? Visit the ' +\n",
              "            '<a target=\"_blank\" href=https://colab.research.google.com/notebooks/data_table.ipynb>data table notebook</a>'\n",
              "            + ' to learn more about interactive tables.';\n",
              "          element.innerHTML = '';\n",
              "          dataTable['output_type'] = 'display_data';\n",
              "          await google.colab.output.renderOutput(dataTable, element);\n",
              "          const docLink = document.createElement('div');\n",
              "          docLink.innerHTML = docLinkHtml;\n",
              "          element.appendChild(docLink);\n",
              "        }\n",
              "      </script>\n",
              "    </div>\n",
              "  </div>\n",
              "  "
            ]
          },
          "metadata": {},
          "execution_count": 8
        }
      ]
    },
    {
      "cell_type": "markdown",
      "source": [
        "### Function to label the bar graph"
      ],
      "metadata": {
        "id": "YSIlo5DJhyX0"
      }
    },
    {
      "cell_type": "code",
      "source": [
        "def autolabel(rects):\n",
        "    for idx,rect in enumerate(bar_plot):\n",
        "        height = rect.get_height()\n",
        "        if type(x[idx]) == int:\n",
        "          ax.text(rect.get_x() + rect.get_width()/2., 1.0*height,\n",
        "                  [x[idx], y[idx]],\n",
        "                  ha='center', va='bottom', rotation=90)\n",
        "        else:\n",
        "          ax.text(rect.get_x() + rect.get_width()/2., 1.0*height,\n",
        "                  [x[idx], y[idx]],\n",
        "                  ha='center', va='bottom', rotation=0)"
      ],
      "metadata": {
        "id": "FwOrVkc7aLNw"
      },
      "execution_count": 65,
      "outputs": []
    },
    {
      "cell_type": "markdown",
      "source": [
        "### Organs Distribution"
      ],
      "metadata": {
        "id": "08Jwl8HCh4h7"
      }
    },
    {
      "cell_type": "code",
      "source": [
        "fig, ax = plt.subplots(figsize=(15, 5))\n",
        "\n",
        "x = list(train_df['organ'].unique())\n",
        "y = list(train_df['organ'].value_counts(sort=False))\n",
        "\n",
        "bar_plot = plt.bar(x, y)\n",
        "autolabel(bar_plot)\n",
        "plt.xlabel('organ')\n",
        "plt.ylabel('count')\n",
        "plt.show()"
      ],
      "metadata": {
        "colab": {
          "base_uri": "https://localhost:8080/",
          "height": 334
        },
        "id": "1HVoSy45WseY",
        "outputId": "8a04f561-33f2-4c07-815e-b7b90ab9a810"
      },
      "execution_count": 66,
      "outputs": [
        {
          "output_type": "display_data",
          "data": {
            "text/plain": [
              "<Figure size 1080x360 with 1 Axes>"
            ],
            "image/png": "[encoded data removed]"
          },
          "metadata": {
            "needs_background": "light"
          }
        }
      ]
    },
    {
      "cell_type": "markdown",
      "source": [
        "### Age Distribution"
      ],
      "metadata": {
        "id": "egYXC5Iqh7-w"
      }
    },
    {
      "cell_type": "code",
      "source": [
        "fig, ax = plt.subplots(figsize=(15, 5))\n",
        "\n",
        "x = list(map(int, train_df['age'].unique()))\n",
        "y = list(train_df['age'].value_counts(sort=False))\n",
        "\n",
        "bar_plot = plt.bar(x, y)\n",
        "autolabel(bar_plot)\n",
        "plt.xlabel('age')\n",
        "plt.ylabel('count')\n",
        "plt.show()"
      ],
      "metadata": {
        "colab": {
          "base_uri": "https://localhost:8080/",
          "height": 360
        },
        "id": "9eip-WRladXE",
        "outputId": "1caf4096-e670-48f4-a5a7-010bbdd07c9c"
      },
      "execution_count": 70,
      "outputs": [
        {
          "output_type": "display_data",
          "data": {
            "text/plain": [
              "<Figure size 1080x360 with 1 Axes>"
            ],
            "image/png": "[encoded data removed]"
          },
          "metadata": {
            "needs_background": "light"
          }
        }
      ]
    },
    {
      "cell_type": "markdown",
      "source": [
        "### Gender Distribution"
      ],
      "metadata": {
        "id": "vwzioFKKiDC7"
      }
    },
    {
      "cell_type": "code",
      "source": [
        "fig, ax = plt.subplots(figsize=(10, 5))\n",
        "\n",
        "x = list(train_df['sex'].unique())\n",
        "y = list(train_df['sex'].value_counts(sort=False))\n",
        "\n",
        "bar_plot = plt.bar(x, y)\n",
        "autolabel(bar_plot)\n",
        "plt.xlabel('sex')\n",
        "plt.ylabel('count')\n",
        "plt.show()"
      ],
      "metadata": {
        "colab": {
          "base_uri": "https://localhost:8080/",
          "height": 334
        },
        "id": "A_pOiTG2EPFd",
        "outputId": "f270bb38-203c-4092-beba-de8eda27dee6"
      },
      "execution_count": 71,
      "outputs": [
        {
          "output_type": "display_data",
          "data": {
            "text/plain": [
              "<Figure size 720x360 with 1 Axes>"
            ],
            "image/png": "[encoded data removed]"
          },
          "metadata": {
            "needs_background": "light"
          }
        }
      ]
    }
  ]
}