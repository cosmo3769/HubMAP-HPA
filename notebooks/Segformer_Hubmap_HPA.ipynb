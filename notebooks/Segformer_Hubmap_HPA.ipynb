{
  "nbformat": 4,
  "nbformat_minor": 0,
  "metadata": {
    "colab": {
      "provenance": [],
      "authorship_tag": "ABX9TyOfWNHKxj340sZGds/d9d0w",
      "include_colab_link": true
    },
    "kernelspec": {
      "name": "python3",
      "display_name": "Python 3"
    },
    "language_info": {
      "name": "python"
    }
  },
  "cells": [
    {
      "cell_type": "markdown",
      "metadata": {
        "id": "view-in-github",
        "colab_type": "text"
      },
      "source": [
        "<a href=\"https://colab.research.google.com/github/cosmo3769/HubMAP-HPA/blob/main/notebooks/Segformer_Hubmap_HPA.ipynb\" target=\"_parent\"><img src=\"https://colab.research.google.com/assets/colab-badge.svg\" alt=\"Open In Colab\"/></a>"
      ]
    },
    {
      "cell_type": "markdown",
      "source": [
        "# Setting up Kaggle Service to fetch the dataset"
      ],
      "metadata": {
        "id": "8F6ZsD4eOu5H"
      }
    },
    {
      "cell_type": "code",
      "execution_count": null,
      "metadata": {
        "id": "Fhxag9LYMUuv"
      },
      "outputs": [],
      "source": [
        "# Install the kaggle library.\n",
        "\n",
        "%%capture\n",
        "! pip install kaggle"
      ]
    },
    {
      "cell_type": "code",
      "source": [
        "! mkdir ~/.kaggle"
      ],
      "metadata": {
        "id": "Ik8vjpg1PBSd"
      },
      "execution_count": null,
      "outputs": []
    },
    {
      "cell_type": "markdown",
      "source": [
        "Upload kaggle.json file here. Go to API section in kaggle. Generate your file and upload it here to run below cells."
      ],
      "metadata": {
        "id": "mX3eXjTRv_J2"
      }
    },
    {
      "cell_type": "code",
      "source": [
        "! cp kaggle.json ~/.kaggle/\n",
        "! chmod 600 ~/.kaggle/kaggle.json"
      ],
      "metadata": {
        "id": "RpoXmqPqv7e2"
      },
      "execution_count": null,
      "outputs": []
    },
    {
      "cell_type": "code",
      "source": [
        "! kaggle competitions download -c hubmap-organ-segmentation"
      ],
      "metadata": {
        "id": "vKBb5S_KPI4O"
      },
      "execution_count": null,
      "outputs": []
    },
    {
      "cell_type": "code",
      "source": [
        "%%capture\n",
        "! unzip hubmap-organ-segmentation.zip"
      ],
      "metadata": {
        "id": "XiTQXj-CPMFM"
      },
      "execution_count": null,
      "outputs": []
    }
  ]
}