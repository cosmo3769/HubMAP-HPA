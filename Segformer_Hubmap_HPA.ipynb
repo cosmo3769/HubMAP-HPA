{
  "nbformat": 4,
  "nbformat_minor": 0,
  "metadata": {
    "colab": {
      "provenance": [],
      "collapsed_sections": [],
      "authorship_tag": "ABX9TyPD5+qtqKtcC25xpvYrj9Rc",
      "include_colab_link": true
    },
    "kernelspec": {
      "name": "python3",
      "display_name": "Python 3"
    },
    "language_info": {
      "name": "python"
    }
  },
  "cells": [
    {
      "cell_type": "markdown",
      "metadata": {
        "id": "view-in-github",
        "colab_type": "text"
      },
      "source": [
        "<a href=\"https://colab.research.google.com/github/cosmo3769/HubMAP-HPA/blob/main/Segformer_Hubmap_HPA.ipynb\" target=\"_parent\"><img src=\"https://colab.research.google.com/assets/colab-badge.svg\" alt=\"Open In Colab\"/></a>"
      ]
    },
    {
      "cell_type": "markdown",
      "source": [
        "# Setting up Kaggle Service to fetch the dataset"
      ],
      "metadata": {
        "id": "8F6ZsD4eOu5H"
      }
    },
    {
      "cell_type": "code",
      "execution_count": 1,
      "metadata": {
        "id": "Fhxag9LYMUuv"
      },
      "outputs": [],
      "source": [
        "# Install the kaggle library.\n",
        "\n",
        "%%capture\n",
        "! pip install kaggle"
      ]
    },
    {
      "cell_type": "code",
      "source": [
        "! mkdir ~/.kaggle\n",
        "! cp kaggle.json ~/.kaggle/\n",
        "! chmod 600 ~/.kaggle/kaggle.json"
      ],
      "metadata": {
        "id": "Ik8vjpg1PBSd"
      },
      "execution_count": null,
      "outputs": []
    },
    {
      "cell_type": "code",
      "source": [
        "! kaggle competitions download -c hubmap-organ-segmentation"
      ],
      "metadata": {
        "id": "vKBb5S_KPI4O"
      },
      "execution_count": null,
      "outputs": []
    },
    {
      "cell_type": "code",
      "source": [
        "%%capture\n",
        "! unzip hubmap-organ-segmentation.zip"
      ],
      "metadata": {
        "id": "XiTQXj-CPMFM"
      },
      "execution_count": null,
      "outputs": []
    }
  ]
}